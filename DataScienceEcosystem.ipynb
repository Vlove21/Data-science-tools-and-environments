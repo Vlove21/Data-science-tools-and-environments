{
 "cells": [
  {
   "cell_type": "markdown",
   "id": "690ae985-86a9-404e-85c2-ea0c8adad174",
   "metadata": {},
   "source": [
    "# Data Science Tools and Ecosystem "
   ]
  },
  {
   "cell_type": "markdown",
   "id": "a99a7cd8-f899-4701-a0e7-c24671967599",
   "metadata": {},
   "source": [
    "## Author \n",
    "Javone Love "
   ]
  },
  {
   "cell_type": "markdown",
   "id": "de72f367-3abe-4df5-bdf6-cf741ff61e98",
   "metadata": {},
   "source": [
    "In this notebook,Data Science Tools and Ecosystems are summarized. "
   ]
  },
  {
   "cell_type": "markdown",
   "id": "5da5032d-2aa0-42e1-94da-886141b7ea3d",
   "metadata": {
    "tags": []
   },
   "source": [
    "__Objectives:__\n",
    "* Popular languages used by Data Scientists\n",
    "* Common Libraries \n",
    "* Table of Data Science tools \n",
    "* Examples of arithmetic tools "
   ]
  },
  {
   "cell_type": "markdown",
   "id": "7c2e175b-55b6-42af-ad5f-4ebc4fd5c6ef",
   "metadata": {},
   "source": [
    "Some of the popular languages that Data Scientists use are: \n",
    "1. Python \n",
    "2. R\n",
    "3. C++"
   ]
  },
  {
   "cell_type": "markdown",
   "id": "565e5e82-8614-41ed-b30e-27fec3ce677c",
   "metadata": {},
   "source": [
    "Some of the commonly used libraries used by Data Scientists include:\n",
    "1. Pandas\n",
    "2. Matplotlib\n",
    "3. Numpy \n"
   ]
  },
  {
   "cell_type": "markdown",
   "id": "b33a94c9-5e70-45b8-b797-2a3a590806f6",
   "metadata": {
    "tags": []
   },
   "source": [
    "| Data Science Tools|\n",
    "|-------------------|\n",
    "| Jupyter Notebook\\Lab|\n",
    "|Apache Zeppelin|\n",
    "|R Studio|\n"
   ]
  },
  {
   "cell_type": "markdown",
   "id": "1845f925-551b-4865-8827-98a85aefe433",
   "metadata": {},
   "source": [
    "### Below are a few examples of evaluating arithmetic expressions in Python\n"
   ]
  },
  {
   "cell_type": "code",
   "execution_count": 13,
   "id": "3e0bacf3-8239-4dc9-b410-35b2c8f2061b",
   "metadata": {
    "tags": []
   },
   "outputs": [
    {
     "data": {
      "text/plain": [
       "17"
      ]
     },
     "execution_count": 13,
     "metadata": {},
     "output_type": "execute_result"
    }
   ],
   "source": [
    "#This is a simple arithmetic expression to multiply then add integers\n",
    "\n",
    "(3*4)+5\n"
   ]
  },
  {
   "cell_type": "code",
   "execution_count": 16,
   "id": "79dd6601-9682-45a7-a55d-6e3947d3a90d",
   "metadata": {
    "tags": []
   },
   "outputs": [
    {
     "data": {
      "text/plain": [
       "3.3333333333333335"
      ]
     },
     "execution_count": 16,
     "metadata": {},
     "output_type": "execute_result"
    }
   ],
   "source": [
    "#This will convert 200 minutes to hours by dividng by 60\n",
    "200/60"
   ]
  },
  {
   "cell_type": "markdown",
   "id": "08e3acc8-3f75-447a-aa2d-435e4ac2b9c8",
   "metadata": {},
   "source": []
  }
 ],
 "metadata": {
  "kernelspec": {
   "display_name": "Python",
   "language": "python",
   "name": "conda-env-python-py"
  },
  "language_info": {
   "codemirror_mode": {
    "name": "ipython",
    "version": 3
   },
   "file_extension": ".py",
   "mimetype": "text/x-python",
   "name": "python",
   "nbconvert_exporter": "python",
   "pygments_lexer": "ipython3",
   "version": "3.7.12"
  }
 },
 "nbformat": 4,
 "nbformat_minor": 5
}
